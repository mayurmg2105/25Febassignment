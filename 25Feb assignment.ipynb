{
 "cells": [
  {
   "cell_type": "code",
   "execution_count": 1,
   "id": "0a8d4b0e-f212-496b-9a8e-61ec3fb449d9",
   "metadata": {},
   "outputs": [],
   "source": [
    "#\n",
    "#Question 1: Write a code to print the data present in the second row of the dataframe, df\n"
   ]
  },
  {
   "cell_type": "code",
   "execution_count": 3,
   "id": "d4542f01-3bde-454b-88aa-1f75a8e5f079",
   "metadata": {},
   "outputs": [
    {
     "ename": "NameError",
     "evalue": "name 'df' is not defined",
     "output_type": "error",
     "traceback": [
      "\u001b[0;31m---------------------------------------------------------------------------\u001b[0m",
      "\u001b[0;31mNameError\u001b[0m                                 Traceback (most recent call last)",
      "Cell \u001b[0;32mIn[3], line 4\u001b[0m\n\u001b[1;32m      1\u001b[0m \u001b[38;5;28;01mimport\u001b[39;00m \u001b[38;5;21;01mpandas\u001b[39;00m \u001b[38;5;28;01mas\u001b[39;00m \u001b[38;5;21;01mpd\u001b[39;00m\n\u001b[1;32m      2\u001b[0m \u001b[38;5;66;03m# Using iloc function to display second row .\u001b[39;00m\n\u001b[1;32m      3\u001b[0m \u001b[38;5;66;03m# note that index for second row is 1\u001b[39;00m\n\u001b[0;32m----> 4\u001b[0m \u001b[38;5;28mprint\u001b[39m(\u001b[43mdf\u001b[49m\u001b[38;5;241m.\u001b[39miloc[\u001b[38;5;241m1\u001b[39m])\n",
      "\u001b[0;31mNameError\u001b[0m: name 'df' is not defined"
     ]
    }
   ],
   "source": [
    "\n",
    "import pandas as pd\n",
    "# Using iloc function to display second row .\n",
    "# note that index for second row is 1\n",
    "print(df.iloc[1])"
   ]
  },
  {
   "cell_type": "code",
   "execution_count": null,
   "id": "b89c0583-b8c2-40e2-a533-8daf8ce329bb",
   "metadata": {},
   "outputs": [],
   "source": [
    "Question 2: What is the difference between the functions loc and iloc in pandas.DataFrame?"
   ]
  },
  {
   "cell_type": "code",
   "execution_count": null,
   "id": "eb3f3fe2-c6cc-4d69-adc8-673c6eac985c",
   "metadata": {},
   "outputs": [],
   "source": [
    "iloc and loc are both methods used to select data from a pandas dataframe, but they use different indexing methods.\n",
    "1. iloc uses integer-based indexing and is used to select rows and columns by their integer positions. This means that you can use numerical indices to slice a dataframe.\n",
    "For example if i want to show first 2 row and first column using iloc for given df"
   ]
  },
  {
   "cell_type": "code",
   "execution_count": null,
   "id": "de842eec-5d84-4541-a4db-a8959a1a8f23",
   "metadata": {},
   "outputs": [],
   "source": [
    "df.iloc[0:2,0]"
   ]
  },
  {
   "cell_type": "code",
   "execution_count": null,
   "id": "743628e2-14fa-4e13-b071-5ece81554b21",
   "metadata": {},
   "outputs": [],
   "source": [
    "2. loc, on the other hand, uses label-based indexing and is used to select rows and columns by their labels or names. This means that you can use strings to slice a dataframe"
   ]
  },
  {
   "cell_type": "code",
   "execution_count": null,
   "id": "3d8ff34b-407c-4e15-8d9a-ffaa71243757",
   "metadata": {},
   "outputs": [],
   "source": [
    "df.loc[0:1,'course_name']"
   ]
  },
  {
   "cell_type": "code",
   "execution_count": null,
   "id": "bfb66c83-8793-4f8f-81eb-ca4b5fd24f74",
   "metadata": {},
   "outputs": [],
   "source": [
    "Question 3: Reindex the given dataframe using a variable, reindex = [3,0,1,2] and store it in the variable, new_df then find the output for both new_df.loc[2] and new_df.iloc[2].\n",
    "Did you observe any difference in both the outputs? If so then explain it."
   ]
  },
  {
   "cell_type": "code",
   "execution_count": null,
   "id": "cce40a0b-e797-49f8-a489-69718907d78b",
   "metadata": {},
   "outputs": [],
   "source": [
    "# Creating reindex variable\n",
    "reindex = [3,0,1,2]\n",
    "\n",
    "# Reindexing the dateframe using \n",
    "new_df = df.reindex(reindex)\n",
    "\n",
    "# Showing new_df\n",
    "new_df"
   ]
  },
  {
   "cell_type": "code",
   "execution_count": null,
   "id": "d4bcff7f-7bd1-4f80-b5e9-f394bb4dc866",
   "metadata": {},
   "outputs": [],
   "source": [
    "# Output of new_df.loc[2]\n",
    "new_df.loc[2]"
   ]
  },
  {
   "cell_type": "code",
   "execution_count": null,
   "id": "702d983a-950b-4074-9773-e86a392528b4",
   "metadata": {},
   "outputs": [],
   "source": [
    "# Output of new_df.iloc[2]\n",
    "new_df.iloc[2]"
   ]
  },
  {
   "cell_type": "code",
   "execution_count": null,
   "id": "e7780672-fefa-411d-bd44-f120e67875ff",
   "metadata": {},
   "outputs": [],
   "source": [
    "#Quetion4\n",
    "Consider the below code to answer further questions:"
   ]
  },
  {
   "cell_type": "code",
   "execution_count": null,
   "id": "ef5a326b-722f-42a4-865c-a03e903ed538",
   "metadata": {},
   "outputs": [],
   "source": [
    "import pandas as pd\n",
    "import numpy as np\n",
    "\n",
    "columns = ['column_1', 'column_2', 'column_3', 'column_4', 'column_5', 'column_6']\n",
    "\n",
    "indices = [1,2,3,4,5,6]\n",
    "\n",
    "#Creating a dataframe:\n",
    "\n",
    "df1 = pd.DataFrame(np.random.rand(6,6), columns = columns, index = indices)"
   ]
  },
  {
   "cell_type": "code",
   "execution_count": null,
   "id": "f8cdb31f-2d13-4134-be32-5d228dcd541d",
   "metadata": {},
   "outputs": [],
   "source": [
    "# viewing df1\n",
    "df1"
   ]
  },
  {
   "cell_type": "code",
   "execution_count": null,
   "id": "67897d39-04cf-4044-903a-792302f60a15",
   "metadata": {},
   "outputs": [],
   "source": [
    "Question 4 : Write a code to find the following statistical measurements for the above dataframe df1:\n",
    "1. mean of each and every column present in the dataframe.\n",
    "2. standard deviation of column, ‘column_2’"
   ]
  },
  {
   "cell_type": "code",
   "execution_count": null,
   "id": "21380e34-c1de-4fcf-970e-6e4202a861b8",
   "metadata": {},
   "outputs": [],
   "source": [
    "# using mean() function of pandas\n",
    "df1.mean()"
   ]
  },
  {
   "cell_type": "code",
   "execution_count": null,
   "id": "28ae4dde-0a96-48ce-9aa4-47e69ecfb1fd",
   "metadata": {},
   "outputs": [],
   "source": [
    "# using std() function then seleting column2\n",
    "df1.std()['column_2']"
   ]
  },
  {
   "cell_type": "code",
   "execution_count": null,
   "id": "db35e940-93cf-48b5-9aba-dcadec36fe60",
   "metadata": {},
   "outputs": [],
   "source": [
    "Question 5 : Replace the data present in the second row of column, ‘column_2’ by a string variable then find the mean of column, column_2.\n",
    "If you are getting errors in executing it then explain why."
   ]
  },
  {
   "cell_type": "code",
   "execution_count": null,
   "id": "4ec7bddc-fdf4-4abc-a053-b04efb09b5df",
   "metadata": {},
   "outputs": [],
   "source": [
    "# Replacing column_2 with string data\n",
    "df1['column_2'] = ['a','b','c','d','e','f']\n",
    "df1"
   ]
  },
  {
   "cell_type": "code",
   "execution_count": null,
   "id": "ffdf3009-ce27-4412-ad51-8809d7d796e8",
   "metadata": {},
   "outputs": [],
   "source": [
    "df1.dtypes"
   ]
  },
  {
   "cell_type": "code",
   "execution_count": null,
   "id": "1bf0430d-5c15-4361-a8bb-6648697ef791",
   "metadata": {},
   "outputs": [],
   "source": [
    "df1['column_2'].mean()"
   ]
  },
  {
   "cell_type": "code",
   "execution_count": null,
   "id": "9e02a1a9-12d4-4dec-8fc5-40b09553086f",
   "metadata": {},
   "outputs": [],
   "source": [
    "\n",
    "Question 6: What do you understand about the windows function in pandas and list the types of windows functions?"
   ]
  },
  {
   "cell_type": "code",
   "execution_count": null,
   "id": "5f490849-4981-4aaf-8acd-6ec458e29354",
   "metadata": {},
   "outputs": [],
   "source": [
    "Answer :\n",
    "The window functions in Pandas are used to perform some sort of calculations across a set of rows that are interrelated with the current row. The windows functions help us to perform the aggregated calculations across various partitions or cross-sections of the data.\n",
    "A question that comes to our mind after reading the windows function is what exactly is a window? Well, a window is a value (in terms of rows) that tells us the distance between our current row and the row which is to be used for calculations.\n",
    "Below is example of showing what is a window :\n"
   ]
  },
  {
   "cell_type": "code",
   "execution_count": null,
   "id": "26f51e01-cdd8-4ba7-b62e-e19bab1d3408",
   "metadata": {},
   "outputs": [],
   "source": [
    "import yfinance as yf\n",
    "import pandas as pd\n",
    "from warnings import filterwarnings\n",
    "filterwarnings('ignore')\n",
    "\n",
    "# Ticker for Adani Power\n",
    "ticker = 'ADANIPOWER.NS'\n",
    "\n",
    "# Download the ticker info with yfinance REST API\n",
    "df_stock = yf.download(ticker, period='1y',interval='1d')\n",
    "df_stock.head()"
   ]
  },
  {
   "cell_type": "code",
   "execution_count": null,
   "id": "ad9cf76e-84e5-4eb4-ab82-b2bc7012fde4",
   "metadata": {},
   "outputs": [],
   "source": [
    "# Saving Closing price of stock in new dataframe\n",
    "df_close = df_stock[['Close']]\n",
    "df_close.head()"
   ]
  },
  {
   "cell_type": "code",
   "execution_count": null,
   "id": "5835b4cb-5a90-450c-b53a-a1adae04dfd9",
   "metadata": {},
   "outputs": [],
   "source": [
    "# Calculating 20 days rolling mean for above stock\n",
    "df_close['20_Days_Moving_Average'] = df_close['Close'].rolling(window=20,min_periods=1).mean()\n",
    "df_close"
   ]
  },
  {
   "cell_type": "code",
   "execution_count": null,
   "id": "0f4c4f6a-7f81-4ce0-a038-d5f07a4a60a5",
   "metadata": {},
   "outputs": [],
   "source": [
    "df_close.plot(kind='line',figsize=(16,8),title='ADANIPOWER.NS Stock visualization',ylabel='Close')"
   ]
  },
  {
   "cell_type": "code",
   "execution_count": null,
   "id": "e587736c-ba1d-4af5-a5ce-0e66b13c70e2",
   "metadata": {},
   "outputs": [],
   "source": [
    "#Question 7 : Write a code to print only the current month and year at the time of answering this question."
   ]
  },
  {
   "cell_type": "code",
   "execution_count": null,
   "id": "9dc7e000-9bec-46b1-98d0-1bd6d40fd4f3",
   "metadata": {},
   "outputs": [],
   "source": [
    "# Getting current timestamp\n",
    "timestamp_now = pd.Timestamp.now()\n",
    "timestamp_now"
   ]
  },
  {
   "cell_type": "code",
   "execution_count": null,
   "id": "87125f3c-2e17-436e-8873-753498741b67",
   "metadata": {},
   "outputs": [],
   "source": [
    "# Getting current month and year\n",
    "month = timestamp_now.month_name()\n",
    "year = timestamp_now.year"
   ]
  },
  {
   "cell_type": "code",
   "execution_count": null,
   "id": "04913c80-77ca-450b-aac8-9cd3dc5627f2",
   "metadata": {},
   "outputs": [],
   "source": [
    "# Displaying current Month and Year\n",
    "print(f'Month while writing this code is : {month}')\n",
    "print(f'Year while writing this code is  : {year}')"
   ]
  },
  {
   "cell_type": "code",
   "execution_count": null,
   "id": "c141ee3f-6df1-467a-82d5-5db72775292b",
   "metadata": {},
   "outputs": [],
   "source": [
    "Question 8 : Write a Python program that takes in two dates as input (in the format YYYY-MM-DD) and calculates the difference between them in days, hours, and minutes using Pandas time delta. The program should prompt the user to enter the dates and display the result."
   ]
  },
  {
   "cell_type": "code",
   "execution_count": null,
   "id": "9e9439b7-837f-4f2c-981c-5ad9e7cfdf51",
   "metadata": {},
   "outputs": [],
   "source": [
    "Pandas Time Delta is not a suitable function for this purpose. Timedeltas has different purpose"
   ]
  },
  {
   "cell_type": "code",
   "execution_count": null,
   "id": "c597c09f-9ef5-4ebe-957c-c558efe87273",
   "metadata": {},
   "outputs": [],
   "source": [
    "import pandas as pd\n",
    "\n",
    "try:\n",
    "    # Prompt the user to enter the first date\n",
    "    date1 = input(\"Enter the first date (YYYY-MM-DD): \")\n",
    "\n",
    "    # Prompt the user to enter the second date\n",
    "    date2 = input(\"Enter the second date (YYYY-MM-DD): \")\n",
    "\n",
    "    # Convert the dates to datetime objects\n",
    "    date1 = pd.to_datetime(date1)\n",
    "    date2 = pd.to_datetime(date2)\n",
    "\n",
    "    # Calculate the time difference between the dates\n",
    "    time_diff = date2 - date1\n",
    "    days =time_diff.days\n",
    "\n",
    "    # Display the result\n",
    "    print(f\"The difference between {date1.date()} and {date2.date()} is {days} days\")\n",
    "\n",
    "except Exception as e:\n",
    "    print('Input provided for date1 :',date1)\n",
    "    print('Input provided for date2 :',date2)\n",
    "    print('Exception Occured and Handled :',e)"
   ]
  },
  {
   "cell_type": "code",
   "execution_count": null,
   "id": "c8182905-9237-4be4-a379-87ec0ee0b2c7",
   "metadata": {},
   "outputs": [],
   "source": [
    "#Question 9 : Write a Python program that reads a CSV file containing Categorical data and converts a specified column to categorical datatype.The program should prompt the user to enter file path, column name and category order and then display the sorted data"
   ]
  },
  {
   "cell_type": "code",
   "execution_count": null,
   "id": "5afef7ee-3049-403a-85d3-ec5b76391d70",
   "metadata": {},
   "outputs": [],
   "source": [
    "import pandas as pd\n",
    "\n",
    "try :\n",
    "    # Prompt the user to enter the file path\n",
    "    file_path = input(\"Enter the file path: \")\n",
    "\n",
    "    # Prompt the user to enter the column name to convert to categorical datatype\n",
    "    column_name = input(\"Enter the column name: \")\n",
    "\n",
    "    # Read the CSV file into a DataFrame\n",
    "    df = pd.read_csv(file_path)\n",
    "\n",
    "    # Prompt the user to enter the category order\n",
    "    category_order = input(\"Enter the category order (comma-separated values): \")\n",
    "    category_order = [cat.strip() for cat in category_order.split(\",\")]\n",
    "\n",
    "    # Convert the specified column to categorical datatype\n",
    "    df[column_name] = pd.Categorical(df[column_name], categories=category_order, ordered=True)\n",
    "\n",
    "    # Sort the data based on the categorical column\n",
    "    df_sorted = df.sort_values(column_name, ascending=False)\n",
    "\n",
    "    # Display the sorted data and entered data\n",
    "    print('File Path Entered :',file_path)\n",
    "    print('Column name Entered :',column_name)\n",
    "    print('Category Order :',category_order,'\\n')\n",
    "    print('==================================\\n')\n",
    "    print(df_sorted)\n",
    "\n",
    "except Exception as e:\n",
    "    print('File Path Entered :',file_path)\n",
    "    print('Column name Entered :',column_name)\n",
    "    print('Category Order :',category_order)\n",
    "    print('Exception Occured and Handled :',e)"
   ]
  },
  {
   "cell_type": "code",
   "execution_count": null,
   "id": "df3e5e27-2a84-438b-a5c5-127e81aa82e2",
   "metadata": {},
   "outputs": [],
   "source": [
    "Question 10 : Write a python program that reads a CSV file containing sales data for different products and visualizes the data using stacked barchart to show sales of each product over time. The Program should prompt user to enter filepath and display the chart."
   ]
  },
  {
   "cell_type": "code",
   "execution_count": null,
   "id": "4926e0ed-d2e9-4f34-9c5b-ae2cc81a5ad8",
   "metadata": {},
   "outputs": [],
   "source": [
    "import pandas as pd\n",
    "\n",
    "try:\n",
    "    # Prompt the user to enter the file path\n",
    "    file_path = input(\"Enter the file path: \")\n",
    "    \n",
    "    # Read the CSV file into a DataFrame\n",
    "    df = pd.read_csv(file_path)\n",
    "\n",
    "    # Convert the date column to datetime datatype\n",
    "    df['Date'] = pd.to_datetime(df['Date'])\n",
    "\n",
    "    # Group the data by product and date, and sum the sales\n",
    "    df_grouped = df.groupby(['Product', 'Date']).sum().reset_index()\n",
    "\n",
    "    # Pivot the data to create a matrix of sales by product and date\n",
    "    df_pivot = df_grouped.pivot(index='Date', columns='Product', values='Sales')\n",
    "\n",
    "    # Print the filepath provided\n",
    "    print('File path Entered : ', file_path,'\\n')\n",
    "    print('=====================================\\n')\n",
    "\n",
    "    print('Input CSV provided\\n')\n",
    "    print(df)\n",
    "\n",
    "    print('\\n=====================================\\n')\n",
    "    # Plot stacked barchart overtime\n",
    "    df_pivot.plot(kind='bar',\n",
    "                  stacked=True,\n",
    "                  title='Product Sales Over time', \n",
    "                  xlabel='Date',\n",
    "                  ylabel='Sales',\n",
    "                  figsize=(10,10))\n",
    "\n",
    "except Exception as e:     \n",
    "    print('File path Entered : ', file_path,'\\n')\n",
    "    print('Exception occured and Handled : ',e)"
   ]
  }
 ],
 "metadata": {
  "kernelspec": {
   "display_name": "Python 3 (ipykernel)",
   "language": "python",
   "name": "python3"
  },
  "language_info": {
   "codemirror_mode": {
    "name": "ipython",
    "version": 3
   },
   "file_extension": ".py",
   "mimetype": "text/x-python",
   "name": "python",
   "nbconvert_exporter": "python",
   "pygments_lexer": "ipython3",
   "version": "3.10.8"
  }
 },
 "nbformat": 4,
 "nbformat_minor": 5
}
